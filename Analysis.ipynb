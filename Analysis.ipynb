{
 "cells": [
  {
   "cell_type": "markdown",
   "id": "e777dfe3",
   "metadata": {},
   "source": [
    "# Analysis of Yelp Business Intelligence Data\n",
    "\n",
    "We will analyze a subset of Yelp's business, reviews and user data. This dataset comes to us from Kaggle although we have taken steps to pull this data into a s3 bucket: s3://sta9760s2021-daniel-spark-datasets/*.json\n",
    "\n",
    "## Part I: Installation and Initial Setup"
   ]
  },
  {
   "cell_type": "code",
   "execution_count": 1,
   "id": "1fde7e25",
   "metadata": {},
   "outputs": [
    {
     "data": {
      "text/html": [
       "Current session configs: <tt>{'conf': {'spark.pyspark.python': 'python3', 'spark.pyspark.virtualenv.enabled': 'true', 'spark.pyspark.virtualenv.type': 'native', 'spark.pyspark.virtualenv.bin.path': '/usr/bin/virtualenv'}, 'kind': 'pyspark'}</tt><br>"
      ],
      "text/plain": [
       "<IPython.core.display.HTML object>"
      ]
     },
     "metadata": {},
     "output_type": "display_data"
    },
    {
     "data": {
      "text/html": [
       "No active sessions."
      ],
      "text/plain": [
       "<IPython.core.display.HTML object>"
      ]
     },
     "metadata": {},
     "output_type": "display_data"
    }
   ],
   "source": [
    "%%info"
   ]
  },
  {
   "cell_type": "code",
   "execution_count": 2,
   "id": "9f421535",
   "metadata": {},
   "outputs": [
    {
     "data": {
      "application/vnd.jupyter.widget-view+json": {
       "model_id": "ea0c650d6b6d4a4ba15214758687df4e",
       "version_major": 2,
       "version_minor": 0
      },
      "text/plain": [
       "VBox()"
      ]
     },
     "metadata": {},
     "output_type": "display_data"
    },
    {
     "name": "stdout",
     "output_type": "stream",
     "text": [
      "Starting Spark application\n"
     ]
    },
    {
     "data": {
      "text/html": [
       "<table>\n",
       "<tr><th>ID</th><th>YARN Application ID</th><th>Kind</th><th>State</th><th>Spark UI</th><th>Driver log</th><th>Current session?</th></tr><tr><td>2</td><td>application_1619552506971_0003</td><td>pyspark</td><td>idle</td><td><a target=\"_blank\" href=\"http://ip-172-31-21-196.us-east-2.compute.internal:20888/proxy/application_1619552506971_0003/\">Link</a></td><td><a target=\"_blank\" href=\"http://ip-172-31-25-172.us-east-2.compute.internal:8042/node/containerlogs/container_1619552506971_0003_01_000001/livy\">Link</a></td><td>✔</td></tr></table>"
      ],
      "text/plain": [
       "<IPython.core.display.HTML object>"
      ]
     },
     "metadata": {},
     "output_type": "display_data"
    },
    {
     "data": {
      "application/vnd.jupyter.widget-view+json": {
       "model_id": "",
       "version_major": 2,
       "version_minor": 0
      },
      "text/plain": [
       "FloatProgress(value=0.0, bar_style='info', description='Progress:', layout=Layout(height='25px', width='50%'),…"
      ]
     },
     "metadata": {},
     "output_type": "display_data"
    },
    {
     "name": "stdout",
     "output_type": "stream",
     "text": [
      "SparkSession available as 'spark'.\n"
     ]
    },
    {
     "data": {
      "application/vnd.jupyter.widget-view+json": {
       "model_id": "",
       "version_major": 2,
       "version_minor": 0
      },
      "text/plain": [
       "FloatProgress(value=0.0, bar_style='info', description='Progress:', layout=Layout(height='25px', width='50%'),…"
      ]
     },
     "metadata": {},
     "output_type": "display_data"
    },
    {
     "name": "stdout",
     "output_type": "stream",
     "text": [
      "Package                    Version  \n",
      "-------------------------- ---------\n",
      "beautifulsoup4             4.9.1    \n",
      "boto                       2.49.0   \n",
      "click                      7.1.2    \n",
      "jmespath                   0.10.0   \n",
      "joblib                     0.16.0   \n",
      "lxml                       4.5.2    \n",
      "mysqlclient                1.4.2    \n",
      "nltk                       3.5      \n",
      "nose                       1.3.4    \n",
      "numpy                      1.16.5   \n",
      "pip                        9.0.1    \n",
      "py-dateutil                2.2      \n",
      "python37-sagemaker-pyspark 1.4.0    \n",
      "pytz                       2020.1   \n",
      "PyYAML                     5.3.1    \n",
      "regex                      2020.7.14\n",
      "setuptools                 28.8.0   \n",
      "six                        1.13.0   \n",
      "soupsieve                  1.9.5    \n",
      "tqdm                       4.48.2   \n",
      "wheel                      0.29.0   \n",
      "windmill                   1.6"
     ]
    }
   ],
   "source": [
    "sc.list_packages()"
   ]
  },
  {
   "cell_type": "markdown",
   "id": "506f61ec",
   "metadata": {},
   "source": [
    "# Installation and Initial Setup\n",
    "\n",
    "Let's begin by installing the necessary libraries that we may need to conduct your analysis."
   ]
  },
  {
   "cell_type": "code",
   "execution_count": 3,
   "id": "d9a87076",
   "metadata": {},
   "outputs": [
    {
     "data": {
      "application/vnd.jupyter.widget-view+json": {
       "model_id": "a88029d18ad845c187d00a4507b1c32d",
       "version_major": 2,
       "version_minor": 0
      },
      "text/plain": [
       "VBox()"
      ]
     },
     "metadata": {},
     "output_type": "display_data"
    },
    {
     "data": {
      "application/vnd.jupyter.widget-view+json": {
       "model_id": "",
       "version_major": 2,
       "version_minor": 0
      },
      "text/plain": [
       "FloatProgress(value=0.0, bar_style='info', description='Progress:', layout=Layout(height='25px', width='50%'),…"
      ]
     },
     "metadata": {},
     "output_type": "display_data"
    },
    {
     "name": "stdout",
     "output_type": "stream",
     "text": [
      "Collecting pandas==1.2.4\n",
      "  Using cached https://files.pythonhosted.org/packages/51/51/48f3fc47c4e2144da2806dfb6629c4dd1fa3d5a143f9652b141e979a8ca9/pandas-1.2.4-cp37-cp37m-manylinux1_x86_64.whl\n",
      "Requirement already satisfied: numpy>=1.16.5 in /usr/local/lib64/python3.7/site-packages (from pandas==1.2.4)\n",
      "Requirement already satisfied: pytz>=2017.3 in /usr/local/lib/python3.7/site-packages (from pandas==1.2.4)\n",
      "Collecting python-dateutil>=2.7.3 (from pandas==1.2.4)\n",
      "  Using cached https://files.pythonhosted.org/packages/d4/70/d60450c3dd48ef87586924207ae8907090de0b306af2bce5d134d78615cb/python_dateutil-2.8.1-py2.py3-none-any.whl\n",
      "Requirement already satisfied: six>=1.5 in /usr/local/lib/python3.7/site-packages (from python-dateutil>=2.7.3->pandas==1.2.4)\n",
      "Installing collected packages: python-dateutil, pandas\n",
      "Successfully installed pandas-1.2.4 python-dateutil-2.8.1\n",
      "\n",
      "Collecting matplotlib==3.4.1\n",
      "  Using cached https://files.pythonhosted.org/packages/ce/63/74c0b6184b6b169b121bb72458818ee60a7d7c436d7b1907bd5874188c55/matplotlib-3.4.1-cp37-cp37m-manylinux1_x86_64.whl\n",
      "Requirement already satisfied: numpy>=1.16 in /usr/local/lib64/python3.7/site-packages (from matplotlib==3.4.1)\n",
      "Collecting pyparsing>=2.2.1 (from matplotlib==3.4.1)\n",
      "  Using cached https://files.pythonhosted.org/packages/8a/bb/488841f56197b13700afd5658fc279a2025a39e22449b7cf29864669b15d/pyparsing-2.4.7-py2.py3-none-any.whl\n",
      "Requirement already satisfied: python-dateutil>=2.7 in /mnt/tmp/1619556055206-0/lib/python3.7/site-packages (from matplotlib==3.4.1)\n",
      "Collecting pillow>=6.2.0 (from matplotlib==3.4.1)\n",
      "  Using cached https://files.pythonhosted.org/packages/33/34/542152297dcc6c47a9dcb0685eac6d652d878ed3cea83bf2b23cb988e857/Pillow-8.2.0-cp37-cp37m-manylinux1_x86_64.whl\n",
      "Collecting cycler>=0.10 (from matplotlib==3.4.1)\n",
      "  Using cached https://files.pythonhosted.org/packages/f7/d2/e07d3ebb2bd7af696440ce7e754c59dd546ffe1bbe732c8ab68b9c834e61/cycler-0.10.0-py2.py3-none-any.whl\n",
      "Collecting kiwisolver>=1.0.1 (from matplotlib==3.4.1)\n",
      "  Using cached https://files.pythonhosted.org/packages/d2/46/231de802ade4225b76b96cffe419cf3ce52bbe92e3b092cf12db7d11c207/kiwisolver-1.3.1-cp37-cp37m-manylinux1_x86_64.whl\n",
      "Requirement already satisfied: six>=1.5 in /usr/local/lib/python3.7/site-packages (from python-dateutil>=2.7->matplotlib==3.4.1)\n",
      "Installing collected packages: pyparsing, pillow, cycler, kiwisolver, matplotlib\n",
      "Successfully installed cycler-0.10.0 kiwisolver-1.3.1 matplotlib-3.4.1 pillow-8.2.0 pyparsing-2.4.7\n",
      "\n",
      "Collecting seaborn==0.11.1\n",
      "  Using cached https://files.pythonhosted.org/packages/68/ad/6c2406ae175f59ec616714e408979b674fe27b9587f79d59a528ddfbcd5b/seaborn-0.11.1-py3-none-any.whl\n",
      "Requirement already satisfied: numpy>=1.15 in /usr/local/lib64/python3.7/site-packages (from seaborn==0.11.1)\n",
      "Collecting scipy>=1.0 (from seaborn==0.11.1)\n",
      "  Using cached https://files.pythonhosted.org/packages/7d/e8/43ffca541d2f208d516296950b25fe1084b35c2881f4d444c1346ca75815/scipy-1.6.3-cp37-cp37m-manylinux1_x86_64.whl\n",
      "Requirement already satisfied: matplotlib>=2.2 in /mnt/tmp/1619556055206-0/lib/python3.7/site-packages (from seaborn==0.11.1)\n",
      "Requirement already satisfied: pandas>=0.23 in /mnt/tmp/1619556055206-0/lib/python3.7/site-packages (from seaborn==0.11.1)\n",
      "Requirement already satisfied: pyparsing>=2.2.1 in /mnt/tmp/1619556055206-0/lib/python3.7/site-packages (from matplotlib>=2.2->seaborn==0.11.1)\n",
      "Requirement already satisfied: python-dateutil>=2.7 in /mnt/tmp/1619556055206-0/lib/python3.7/site-packages (from matplotlib>=2.2->seaborn==0.11.1)\n",
      "Requirement already satisfied: pillow>=6.2.0 in /mnt/tmp/1619556055206-0/lib/python3.7/site-packages (from matplotlib>=2.2->seaborn==0.11.1)\n",
      "Requirement already satisfied: cycler>=0.10 in /mnt/tmp/1619556055206-0/lib/python3.7/site-packages (from matplotlib>=2.2->seaborn==0.11.1)\n",
      "Requirement already satisfied: kiwisolver>=1.0.1 in /mnt/tmp/1619556055206-0/lib/python3.7/site-packages (from matplotlib>=2.2->seaborn==0.11.1)\n",
      "Requirement already satisfied: pytz>=2017.3 in /usr/local/lib/python3.7/site-packages (from pandas>=0.23->seaborn==0.11.1)\n",
      "Requirement already satisfied: six>=1.5 in /usr/local/lib/python3.7/site-packages (from python-dateutil>=2.7->matplotlib>=2.2->seaborn==0.11.1)\n",
      "Installing collected packages: scipy, seaborn\n",
      "Successfully installed scipy-1.6.3 seaborn-0.11.1"
     ]
    }
   ],
   "source": [
    "sc.install_pypi_package(\"pandas==1.2.4\")\n",
    "sc.install_pypi_package(\"matplotlib==3.4.1\")\n",
    "sc.install_pypi_package(\"seaborn==0.11.1\")"
   ]
  },
  {
   "cell_type": "markdown",
   "id": "ac7f192f",
   "metadata": {},
   "source": [
    "# Importing Packages\n",
    "\n",
    "Now, import the installed packages from the previous block below."
   ]
  },
  {
   "cell_type": "code",
   "execution_count": 4,
   "id": "74617ba5",
   "metadata": {},
   "outputs": [
    {
     "data": {
      "application/vnd.jupyter.widget-view+json": {
       "model_id": "ebdcfc3baa4645039c6eb26e4780b816",
       "version_major": 2,
       "version_minor": 0
      },
      "text/plain": [
       "VBox()"
      ]
     },
     "metadata": {},
     "output_type": "display_data"
    },
    {
     "data": {
      "application/vnd.jupyter.widget-view+json": {
       "model_id": "",
       "version_major": 2,
       "version_minor": 0
      },
      "text/plain": [
       "FloatProgress(value=0.0, bar_style='info', description='Progress:', layout=Layout(height='25px', width='50%'),…"
      ]
     },
     "metadata": {},
     "output_type": "display_data"
    }
   ],
   "source": [
    "import pandas as pd\n",
    "from pandas import DataFrame\n",
    "import matplotlib.pyplot as plt\n",
    "import matplotlib\n",
    "import seaborn as sns\n",
    "import numpy as np"
   ]
  },
  {
   "cell_type": "markdown",
   "id": "dc06bfdf",
   "metadata": {},
   "source": [
    "# Loading Business Data\n",
    "\n",
    "We are finally ready to load data. Using spark load the data from S3 into a dataframe object that we can manipulate further down in our analysis."
   ]
  },
  {
   "cell_type": "code",
   "execution_count": 5,
   "id": "e8c6f652",
   "metadata": {},
   "outputs": [
    {
     "data": {
      "application/vnd.jupyter.widget-view+json": {
       "model_id": "2665567161824c4fb4b545912f92964c",
       "version_major": 2,
       "version_minor": 0
      },
      "text/plain": [
       "VBox()"
      ]
     },
     "metadata": {},
     "output_type": "display_data"
    },
    {
     "data": {
      "application/vnd.jupyter.widget-view+json": {
       "model_id": "",
       "version_major": 2,
       "version_minor": 0
      },
      "text/plain": [
       "FloatProgress(value=0.0, bar_style='info', description='Progress:', layout=Layout(height='25px', width='50%'),…"
      ]
     },
     "metadata": {},
     "output_type": "display_data"
    }
   ],
   "source": [
    "business_df = spark.read.json('s3://sta9760s2021-daniel-spark-datasets/yelp_academic_dataset_business.json')\n"
   ]
  },
  {
   "cell_type": "markdown",
   "id": "33a1c7aa",
   "metadata": {},
   "source": [
    "# Overview of Data\n",
    "\n",
    "Display the number of rows and columns in our dataset."
   ]
  },
  {
   "cell_type": "code",
   "execution_count": 6,
   "id": "f49f8707",
   "metadata": {},
   "outputs": [
    {
     "data": {
      "application/vnd.jupyter.widget-view+json": {
       "model_id": "cc493e8dda244012875fbec5d6e9c79b",
       "version_major": 2,
       "version_minor": 0
      },
      "text/plain": [
       "VBox()"
      ]
     },
     "metadata": {},
     "output_type": "display_data"
    },
    {
     "data": {
      "application/vnd.jupyter.widget-view+json": {
       "model_id": "",
       "version_major": 2,
       "version_minor": 0
      },
      "text/plain": [
       "FloatProgress(value=0.0, bar_style='info', description='Progress:', layout=Layout(height='25px', width='50%'),…"
      ]
     },
     "metadata": {},
     "output_type": "display_data"
    },
    {
     "name": "stdout",
     "output_type": "stream",
     "text": [
      "Total Columns: 14\n",
      "Total Rows: 160,585"
     ]
    }
   ],
   "source": [
    "# Total columns and rows\n",
    "print(f'Total Columns: {len(business_df.dtypes)}')\n",
    "print(f'Total Rows: {business_df.count():,}')"
   ]
  },
  {
   "cell_type": "code",
   "execution_count": 7,
   "id": "48aeeb7e",
   "metadata": {},
   "outputs": [
    {
     "data": {
      "application/vnd.jupyter.widget-view+json": {
       "model_id": "23fe5e24773e477a9ea92a1531716c13",
       "version_major": 2,
       "version_minor": 0
      },
      "text/plain": [
       "VBox()"
      ]
     },
     "metadata": {},
     "output_type": "display_data"
    },
    {
     "data": {
      "application/vnd.jupyter.widget-view+json": {
       "model_id": "",
       "version_major": 2,
       "version_minor": 0
      },
      "text/plain": [
       "FloatProgress(value=0.0, bar_style='info', description='Progress:', layout=Layout(height='25px', width='50%'),…"
      ]
     },
     "metadata": {},
     "output_type": "display_data"
    },
    {
     "name": "stdout",
     "output_type": "stream",
     "text": [
      "Display the DataFrame schema below\n",
      "\n",
      "root\n",
      " |-- address: string (nullable = true)\n",
      " |-- attributes: struct (nullable = true)\n",
      " |    |-- AcceptsInsurance: string (nullable = true)\n",
      " |    |-- AgesAllowed: string (nullable = true)\n",
      " |    |-- Alcohol: string (nullable = true)\n",
      " |    |-- Ambience: string (nullable = true)\n",
      " |    |-- BYOB: string (nullable = true)\n",
      " |    |-- BYOBCorkage: string (nullable = true)\n",
      " |    |-- BestNights: string (nullable = true)\n",
      " |    |-- BikeParking: string (nullable = true)\n",
      " |    |-- BusinessAcceptsBitcoin: string (nullable = true)\n",
      " |    |-- BusinessAcceptsCreditCards: string (nullable = true)\n",
      " |    |-- BusinessParking: string (nullable = true)\n",
      " |    |-- ByAppointmentOnly: string (nullable = true)\n",
      " |    |-- Caters: string (nullable = true)\n",
      " |    |-- CoatCheck: string (nullable = true)\n",
      " |    |-- Corkage: string (nullable = true)\n",
      " |    |-- DietaryRestrictions: string (nullable = true)\n",
      " |    |-- DogsAllowed: string (nullable = true)\n",
      " |    |-- DriveThru: string (nullable = true)\n",
      " |    |-- GoodForDancing: string (nullable = true)\n",
      " |    |-- GoodForKids: string (nullable = true)\n",
      " |    |-- GoodForMeal: string (nullable = true)\n",
      " |    |-- HairSpecializesIn: string (nullable = true)\n",
      " |    |-- HappyHour: string (nullable = true)\n",
      " |    |-- HasTV: string (nullable = true)\n",
      " |    |-- Music: string (nullable = true)\n",
      " |    |-- NoiseLevel: string (nullable = true)\n",
      " |    |-- Open24Hours: string (nullable = true)\n",
      " |    |-- OutdoorSeating: string (nullable = true)\n",
      " |    |-- RestaurantsAttire: string (nullable = true)\n",
      " |    |-- RestaurantsCounterService: string (nullable = true)\n",
      " |    |-- RestaurantsDelivery: string (nullable = true)\n",
      " |    |-- RestaurantsGoodForGroups: string (nullable = true)\n",
      " |    |-- RestaurantsPriceRange2: string (nullable = true)\n",
      " |    |-- RestaurantsReservations: string (nullable = true)\n",
      " |    |-- RestaurantsTableService: string (nullable = true)\n",
      " |    |-- RestaurantsTakeOut: string (nullable = true)\n",
      " |    |-- Smoking: string (nullable = true)\n",
      " |    |-- WheelchairAccessible: string (nullable = true)\n",
      " |    |-- WiFi: string (nullable = true)\n",
      " |-- business_id: string (nullable = true)\n",
      " |-- categories: string (nullable = true)\n",
      " |-- city: string (nullable = true)\n",
      " |-- hours: struct (nullable = true)\n",
      " |    |-- Friday: string (nullable = true)\n",
      " |    |-- Monday: string (nullable = true)\n",
      " |    |-- Saturday: string (nullable = true)\n",
      " |    |-- Sunday: string (nullable = true)\n",
      " |    |-- Thursday: string (nullable = true)\n",
      " |    |-- Tuesday: string (nullable = true)\n",
      " |    |-- Wednesday: string (nullable = true)\n",
      " |-- is_open: long (nullable = true)\n",
      " |-- latitude: double (nullable = true)\n",
      " |-- longitude: double (nullable = true)\n",
      " |-- name: string (nullable = true)\n",
      " |-- postal_code: string (nullable = true)\n",
      " |-- review_count: long (nullable = true)\n",
      " |-- stars: double (nullable = true)\n",
      " |-- state: string (nullable = true)"
     ]
    }
   ],
   "source": [
    "print('Display the DataFrame schema below\\n')\n",
    "\n",
    "business_df.printSchema()"
   ]
  },
  {
   "cell_type": "code",
   "execution_count": 8,
   "id": "9a79b148",
   "metadata": {},
   "outputs": [
    {
     "data": {
      "application/vnd.jupyter.widget-view+json": {
       "model_id": "04570c1ebcbf43cc9e1d9c6cc180fc59",
       "version_major": 2,
       "version_minor": 0
      },
      "text/plain": [
       "VBox()"
      ]
     },
     "metadata": {},
     "output_type": "display_data"
    },
    {
     "data": {
      "application/vnd.jupyter.widget-view+json": {
       "model_id": "",
       "version_major": 2,
       "version_minor": 0
      },
      "text/plain": [
       "FloatProgress(value=0.0, bar_style='info', description='Progress:', layout=Layout(height='25px', width='50%'),…"
      ]
     },
     "metadata": {},
     "output_type": "display_data"
    },
    {
     "name": "stdout",
     "output_type": "stream",
     "text": [
      "+--------------------+--------------------+-----------+-----+-----+--------------------+\n",
      "|         business_id|                name|       city|state|stars|          categories|\n",
      "+--------------------+--------------------+-----------+-----+-----+--------------------+\n",
      "|6iYb2HFDywm3zjuRg...| Oskar Blues Taproom|    Boulder|   CO|  4.0|Gastropubs, Food,...|\n",
      "|tCbdrRPZA0oiIYSmH...|Flying Elephants ...|   Portland|   OR|  4.0|Salad, Soup, Sand...|\n",
      "|bvN78flM8NLprQ1a1...|      The Reclaimory|   Portland|   OR|  4.5|Antiques, Fashion...|\n",
      "|oaepsyvc0J17qwi8c...|         Great Clips|Orange City|   FL|  3.0|Beauty & Spas, Ha...|\n",
      "|PE9uqAjdw0E4-8mjG...|   Crossfit Terminus|    Atlanta|   GA|  4.0|Gyms, Active Life...|\n",
      "+--------------------+--------------------+-----------+-----+-----+--------------------+\n",
      "only showing top 5 rows"
     ]
    }
   ],
   "source": [
    "#Display the first 5 rows of the following columns: business_id, name, city, state, categories\n",
    "business_df.select(business_df['business_id'], business_df['name'], business_df['city'], business_df['state'], business_df['stars'], business_df['categories']).show(5)"
   ]
  },
  {
   "cell_type": "markdown",
   "id": "b8a56885",
   "metadata": {},
   "source": [
    "# Analyzing Categories\n",
    "\n",
    "Let's now answer this question: <b> how many unique categories are represented in this dataset?</b>\n",
    "\n",
    "Essentially, we have the categories per business as a list - this is useful to quickly see what each business might be represented as but it is difficult to easily answer questions such as:\n",
    "\n",
    "How many businesses are categorized as Active Life, for instance\n",
    "What are the top 20 most popular categories available?\n",
    "\n",
    "## Association Table\n",
    "\n",
    "We need to \"break out\" these categories from the business ids? One common approach to take is to build an association table mapping a single business id multiple times to each distinct category.\n",
    "\n"
   ]
  },
  {
   "cell_type": "code",
   "execution_count": 9,
   "id": "6dc8436b",
   "metadata": {},
   "outputs": [
    {
     "data": {
      "application/vnd.jupyter.widget-view+json": {
       "model_id": "e0787b84705044d89ac1bb0d25be61aa",
       "version_major": 2,
       "version_minor": 0
      },
      "text/plain": [
       "VBox()"
      ]
     },
     "metadata": {},
     "output_type": "display_data"
    },
    {
     "data": {
      "application/vnd.jupyter.widget-view+json": {
       "model_id": "",
       "version_major": 2,
       "version_minor": 0
      },
      "text/plain": [
       "FloatProgress(value=0.0, bar_style='info', description='Progress:', layout=Layout(height='25px', width='50%'),…"
      ]
     },
     "metadata": {},
     "output_type": "display_data"
    },
    {
     "name": "stdout",
     "output_type": "stream",
     "text": [
      "              business_id                                         categories\n",
      "0  6iYb2HFDywm3zjuRg0shjw  [Gastropubs,  Food,  Beer Gardens,  Restaurant...\n",
      "1  tCbdrRPZA0oiIYSmHG3J0w  [Salad,  Soup,  Sandwiches,  Delis,  Restauran...\n",
      "2  bvN78flM8NLprQ1a1y5dRg  [Antiques,  Fashion,  Used,  Vintage & Consign...\n",
      "3  oaepsyvc0J17qwi8cfrOWg                      [Beauty & Spas,  Hair Salons]\n",
      "4  PE9uqAjdw0E4-8mjGl3wVA  [Gyms,  Active Life,  Interval Training Gyms, ...\n",
      "5  D4JtQNTI4X3KcbzacDJsMw                               [Restaurants,  Thai]\n",
      "6  t35jsh9YnMtttm69UCp7gw      [Dentists,  Health & Medical,  Orthodontists]\n",
      "7  jFYIsSb7r1QeESVUnXPHBw                 [Breakfast & Brunch,  Restaurants]\n",
      "8  N3_Gs3DnX4k9SgpwJxdEfw  [Shopping,  Jewelry Repair,  Appraisal Service...\n",
      "9  tXvdYGvlEceDljN8gt2_3Q                          [Barbers,  Beauty & Spas]"
     ]
    }
   ],
   "source": [
    "from pyspark.sql.functions import split, explode, explode_outer, countDistinct, desc\n",
    "\n",
    "business_df.createOrReplaceTempView(\"Yelp\")\n",
    "\n",
    "sqldf = spark.sql(\n",
    "'''\n",
    "SELECT business_id, SPLIT(categories,',') AS categories FROM Yelp\n",
    "'''\n",
    ")\n",
    "\n",
    "sqldf.toPandas().head(10)"
   ]
  },
  {
   "cell_type": "code",
   "execution_count": 10,
   "id": "25033c60",
   "metadata": {},
   "outputs": [
    {
     "data": {
      "application/vnd.jupyter.widget-view+json": {
       "model_id": "02411e7a0ea640caaa11fc1b56e8d6a8",
       "version_major": 2,
       "version_minor": 0
      },
      "text/plain": [
       "VBox()"
      ]
     },
     "metadata": {},
     "output_type": "display_data"
    },
    {
     "data": {
      "application/vnd.jupyter.widget-view+json": {
       "model_id": "",
       "version_major": 2,
       "version_minor": 0
      },
      "text/plain": [
       "FloatProgress(value=0.0, bar_style='info', description='Progress:', layout=Layout(height='25px', width='50%'),…"
      ]
     },
     "metadata": {},
     "output_type": "display_data"
    },
    {
     "name": "stdout",
     "output_type": "stream",
     "text": [
      "+--------------------+-------------+\n",
      "|         business_id|   categories|\n",
      "+--------------------+-------------+\n",
      "|6iYb2HFDywm3zjuRg...|   Gastropubs|\n",
      "|6iYb2HFDywm3zjuRg...|         Food|\n",
      "|6iYb2HFDywm3zjuRg...| Beer Gardens|\n",
      "|6iYb2HFDywm3zjuRg...|  Restaurants|\n",
      "|6iYb2HFDywm3zjuRg...|         Bars|\n",
      "+--------------------+-------------+\n",
      "only showing top 5 rows"
     ]
    }
   ],
   "source": [
    "from pyspark.sql.functions import split, explode\n",
    "\n",
    "business_df_categories = business_df.withColumn(\"categories\", explode(split('categories', \",\")))\n",
    "\n",
    "business_df_categories.select('business_id','categories').show(5)"
   ]
  },
  {
   "cell_type": "markdown",
   "id": "eac7b9f5",
   "metadata": {},
   "source": [
    "# Total Unique Categories\n",
    "\n",
    "Finally, we are ready to answer the question: <b> what is the total number of unique categories available?</b>\n",
    "\n",
    "Below, implement the code necessary to calculate this figure."
   ]
  },
  {
   "cell_type": "code",
   "execution_count": 11,
   "id": "722be641",
   "metadata": {},
   "outputs": [
    {
     "data": {
      "application/vnd.jupyter.widget-view+json": {
       "model_id": "9a39ab19f5bc461dab6df9e6f2879483",
       "version_major": 2,
       "version_minor": 0
      },
      "text/plain": [
       "VBox()"
      ]
     },
     "metadata": {},
     "output_type": "display_data"
    },
    {
     "data": {
      "application/vnd.jupyter.widget-view+json": {
       "model_id": "",
       "version_major": 2,
       "version_minor": 0
      },
      "text/plain": [
       "FloatProgress(value=0.0, bar_style='info', description='Progress:', layout=Layout(height='25px', width='50%'),…"
      ]
     },
     "metadata": {},
     "output_type": "display_data"
    },
    {
     "name": "stdout",
     "output_type": "stream",
     "text": [
      "2487"
     ]
    }
   ],
   "source": [
    "unique_categories = business_df_categories.select('business_id','categories')\n",
    "unique_categories.select('categories').distinct().count()"
   ]
  },
  {
   "cell_type": "markdown",
   "id": "ba62c28a",
   "metadata": {},
   "source": [
    "# Top Categories By Business\n",
    "\n",
    "Now let's find the top categories in this dataset by rolling up categories.\n",
    "\n",
    "## Counts of Businesses / Category\n",
    "\n",
    "So now, let's unroll our distinct count a bit and display the per count value of businesses per category.\n",
    "\n"
   ]
  },
  {
   "cell_type": "code",
   "execution_count": 12,
   "id": "2620e3d0",
   "metadata": {},
   "outputs": [
    {
     "data": {
      "application/vnd.jupyter.widget-view+json": {
       "model_id": "ce185f1dfdfb4bc0b58e3647fcf0afba",
       "version_major": 2,
       "version_minor": 0
      },
      "text/plain": [
       "VBox()"
      ]
     },
     "metadata": {},
     "output_type": "display_data"
    },
    {
     "data": {
      "application/vnd.jupyter.widget-view+json": {
       "model_id": "",
       "version_major": 2,
       "version_minor": 0
      },
      "text/plain": [
       "FloatProgress(value=0.0, bar_style='info', description='Progress:', layout=Layout(height='25px', width='50%'),…"
      ]
     },
     "metadata": {},
     "output_type": "display_data"
    },
    {
     "name": "stdout",
     "output_type": "stream",
     "text": [
      "+--------------------+-----+\n",
      "|          categories|count|\n",
      "+--------------------+-----+\n",
      "|         Restaurants|36340|\n",
      "|                Food|22094|\n",
      "|            Shopping|20056|\n",
      "|         Restaurants|14423|\n",
      "|       Home Services|12001|\n",
      "|       Beauty & Spas|11633|\n",
      "|    Health & Medical|11390|\n",
      "|           Nightlife| 9808|\n",
      "|      Local Services| 9299|\n",
      "|                Bars| 8914|\n",
      "| Event Planning &...| 7617|\n",
      "|                Food| 7375|\n",
      "|         Active Life| 7039|\n",
      "|          Automotive| 6785|\n",
      "|            Shopping| 6149|\n",
      "|        Coffee & Tea| 5735|\n",
      "|          Sandwiches| 5697|\n",
      "| American (Tradit...| 5235|\n",
      "|             Fashion| 5231|\n",
      "|       Beauty & Spas| 4941|\n",
      "+--------------------+-----+"
     ]
    }
   ],
   "source": [
    "top_categories = business_df_categories.groupBy(\"categories\").count().sort(desc('count')).limit(20)\n",
    "top_categories.show()"
   ]
  },
  {
   "cell_type": "markdown",
   "id": "476812bc",
   "metadata": {},
   "source": [
    "# Bar Chart of Top Categories\n",
    "\n",
    "With this data available, let us now build a barchart of the top 20 categories."
   ]
  },
  {
   "cell_type": "code",
   "execution_count": 13,
   "id": "71aee133",
   "metadata": {},
   "outputs": [
    {
     "data": {
      "application/vnd.jupyter.widget-view+json": {
       "model_id": "5052482055ba4022b270235ea1b29347",
       "version_major": 2,
       "version_minor": 0
      },
      "text/plain": [
       "VBox()"
      ]
     },
     "metadata": {},
     "output_type": "display_data"
    },
    {
     "data": {
      "application/vnd.jupyter.widget-view+json": {
       "model_id": "",
       "version_major": 2,
       "version_minor": 0
      },
      "text/plain": [
       "FloatProgress(value=0.0, bar_style='info', description='Progress:', layout=Layout(height='25px', width='50%'),…"
      ]
     },
     "metadata": {},
     "output_type": "display_data"
    },
    {
     "name": "stdout",
     "output_type": "stream",
     "text": [
      "<AxesSubplot:title={'center':'Top 20 Categories'}, ylabel='categories'>"
     ]
    }
   ],
   "source": [
    "top_categories.toPandas().plot.barh('categories','count',title = 'Top 20 Categories')"
   ]
  },
  {
   "cell_type": "code",
   "execution_count": 14,
   "id": "1ae90af2",
   "metadata": {},
   "outputs": [
    {
     "data": {
      "application/vnd.jupyter.widget-view+json": {
       "model_id": "",
       "version_major": 2,
       "version_minor": 0
      },
      "text/plain": [
       "FloatProgress(value=0.0, bar_style='info', description='Progress:', layout=Layout(height='25px', width='50%'),…"
      ]
     },
     "metadata": {},
     "output_type": "display_data"
    },
    {
     "data": {
      "image/png": "[encoded data removed]",
      "text/plain": [
       "<IPython.core.display.Image object>"
      ]
     },
     "metadata": {},
     "output_type": "display_data"
    }
   ],
   "source": [
    "%matplot plt"
   ]
  },
  {
   "cell_type": "markdown",
   "id": "d6a5585e",
   "metadata": {},
   "source": [
    "# Part III: Do Yelp Reviews Skew Negative?\n",
    "\n",
    "Oftentimes, it is said that the only people who write a written review are those who are extremely dissatisfied or extremely satisfied with the service received.\n",
    "\n",
    "How true is this really? Let's try and answer this question.\n",
    "\n",
    "## Loading User Data\n",
    "\n",
    "Begin by loading the user data set from S3 and printing schema to determine what data is available."
   ]
  },
  {
   "cell_type": "code",
   "execution_count": 15,
   "id": "047c366f",
   "metadata": {},
   "outputs": [
    {
     "data": {
      "application/vnd.jupyter.widget-view+json": {
       "model_id": "a7af84119f4946f8895a56159a0bdf7c",
       "version_major": 2,
       "version_minor": 0
      },
      "text/plain": [
       "VBox()"
      ]
     },
     "metadata": {},
     "output_type": "display_data"
    },
    {
     "data": {
      "application/vnd.jupyter.widget-view+json": {
       "model_id": "",
       "version_major": 2,
       "version_minor": 0
      },
      "text/plain": [
       "FloatProgress(value=0.0, bar_style='info', description='Progress:', layout=Layout(height='25px', width='50%'),…"
      ]
     },
     "metadata": {},
     "output_type": "display_data"
    },
    {
     "name": "stdout",
     "output_type": "stream",
     "text": [
      "root\n",
      " |-- business_id: string (nullable = true)\n",
      " |-- cool: long (nullable = true)\n",
      " |-- date: string (nullable = true)\n",
      " |-- funny: long (nullable = true)\n",
      " |-- review_id: string (nullable = true)\n",
      " |-- stars: double (nullable = true)\n",
      " |-- text: string (nullable = true)\n",
      " |-- useful: long (nullable = true)\n",
      " |-- user_id: string (nullable = true)\n",
      "\n",
      "Total Columns: 9\n",
      "Total Rows: 8,635,403"
     ]
    }
   ],
   "source": [
    "review_df = spark.read.json('s3://sta9760s2021-daniel-spark-datasets/yelp_academic_dataset_review.json')\n",
    "review_df.printSchema()\n",
    "\n",
    "# Total columns and rows\n",
    "print(f'Total Columns: {len(review_df.dtypes)}')\n",
    "print(f'Total Rows: {review_df.count():,}')"
   ]
  },
  {
   "cell_type": "markdown",
   "id": "c4658c16",
   "metadata": {},
   "source": [
    "Let's begin by listing the business_id and stars columns together for the user reviews data."
   ]
  },
  {
   "cell_type": "code",
   "execution_count": 16,
   "id": "7a674760",
   "metadata": {},
   "outputs": [
    {
     "data": {
      "application/vnd.jupyter.widget-view+json": {
       "model_id": "d38cc85cd453424f840b03256d4770b4",
       "version_major": 2,
       "version_minor": 0
      },
      "text/plain": [
       "VBox()"
      ]
     },
     "metadata": {},
     "output_type": "display_data"
    },
    {
     "data": {
      "application/vnd.jupyter.widget-view+json": {
       "model_id": "",
       "version_major": 2,
       "version_minor": 0
      },
      "text/plain": [
       "FloatProgress(value=0.0, bar_style='info', description='Progress:', layout=Layout(height='25px', width='50%'),…"
      ]
     },
     "metadata": {},
     "output_type": "display_data"
    },
    {
     "name": "stdout",
     "output_type": "stream",
     "text": [
      "+--------------------+-----+\n",
      "|         business_id|stars|\n",
      "+--------------------+-----+\n",
      "|buF9druCkbuXLX526...|  4.0|\n",
      "|RA4V8pr014UyUbDvI...|  4.0|\n",
      "|_sS2LBIGNT5NQb6PD...|  5.0|\n",
      "|0AzLzHfOJgL7ROwhd...|  2.0|\n",
      "|8zehGz9jnxPqXtOc7...|  4.0|\n",
      "+--------------------+-----+\n",
      "only showing top 5 rows"
     ]
    }
   ],
   "source": [
    "review_df.select(review_df['business_id'], review_df['stars']).show(5)"
   ]
  },
  {
   "cell_type": "markdown",
   "id": "b55cf1eb",
   "metadata": {},
   "source": [
    "Now, let's aggregate along the stars column to get a resultant dataframe that displays average stars per business as accumulated by users who <b> took the time to submit a written review.</b>"
   ]
  },
  {
   "cell_type": "code",
   "execution_count": 17,
   "id": "fea510b8",
   "metadata": {},
   "outputs": [
    {
     "data": {
      "application/vnd.jupyter.widget-view+json": {
       "model_id": "9f0b3e29f65b4b0ab72765ea8ab72caa",
       "version_major": 2,
       "version_minor": 0
      },
      "text/plain": [
       "VBox()"
      ]
     },
     "metadata": {},
     "output_type": "display_data"
    },
    {
     "data": {
      "application/vnd.jupyter.widget-view+json": {
       "model_id": "",
       "version_major": 2,
       "version_minor": 0
      },
      "text/plain": [
       "FloatProgress(value=0.0, bar_style='info', description='Progress:', layout=Layout(height='25px', width='50%'),…"
      ]
     },
     "metadata": {},
     "output_type": "display_data"
    },
    {
     "name": "stdout",
     "output_type": "stream",
     "text": [
      "+--------------------+-----------------+\n",
      "|         business_id|       avg(stars)|\n",
      "+--------------------+-----------------+\n",
      "|uEUweopM30lHcVxjO...|              3.0|\n",
      "|wdBrDCbZopowEkIEX...|4.538461538461538|\n",
      "|L3WCfeVozu5etMhz4...|              4.2|\n",
      "|bOnsvrz1VkbrZM1jV...|              3.8|\n",
      "|R0IJhEI-zSJpYT1YN...|3.606060606060606|\n",
      "|XzXcpPCb8Y5huklEN...|4.666666666666667|\n",
      "|yHtuNAlYKtRZniO8O...|4.714285714285714|\n",
      "|O_BAT_rvszHYBNEM6...|             2.45|\n",
      "|E8Fl7qE_y-bhRbkkd...|4.666666666666667|\n",
      "|MPzc6QuEjwk3E3jVT...|           3.3125|\n",
      "+--------------------+-----------------+\n",
      "only showing top 10 rows"
     ]
    }
   ],
   "source": [
    "from pyspark.sql.functions import avg\n",
    "\n",
    "business_avg_stars = review_df.groupBy('business_id').avg('stars')\n",
    "business_avg_stars.show(10)"
   ]
  },
  {
   "cell_type": "markdown",
   "id": "7f628b05",
   "metadata": {},
   "source": [
    "Now the fun part - let's join our two dataframes (reviews and business data) by business_id."
   ]
  },
  {
   "cell_type": "markdown",
   "id": "89d6a093",
   "metadata": {},
   "source": [
    "Compute a new dataframe that calculates what we will call the skew (for lack of a better word) between the avg stars accumulated from written reviews and the actual star rating of a business (ie: the average of stars given by reviewers who wrote an actual review and reviewers who just provided a star rating).\n",
    "\n",
    "The formula you can use is something like:\n",
    "\n",
    "(row['avg(stars)'] - row['stars']) / row['stars']\n",
    "\n",
    "If the skew is negative, we can interpret that to be: reviewers who left a written response were more dissatisfied than normal. If skew is positive, we can interpret that to be: reviewers who left a written response were more satisfied than normal."
   ]
  },
  {
   "cell_type": "code",
   "execution_count": 18,
   "id": "de16c58f",
   "metadata": {},
   "outputs": [
    {
     "data": {
      "application/vnd.jupyter.widget-view+json": {
       "model_id": "b2d9235546f1448e8053018f1eb19e08",
       "version_major": 2,
       "version_minor": 0
      },
      "text/plain": [
       "VBox()"
      ]
     },
     "metadata": {},
     "output_type": "display_data"
    },
    {
     "data": {
      "application/vnd.jupyter.widget-view+json": {
       "model_id": "",
       "version_major": 2,
       "version_minor": 0
      },
      "text/plain": [
       "FloatProgress(value=0.0, bar_style='info', description='Progress:', layout=Layout(height='25px', width='50%'),…"
      ]
     },
     "metadata": {},
     "output_type": "display_data"
    }
   ],
   "source": [
    "df1 = business_avg_stars.select('business_id','avg(stars)')\n",
    "df2 = business_df.select('business_id','stars','name','city','state')\n",
    "review_and_business = df1.join(df2, df1.business_id == df2.business_id)"
   ]
  },
  {
   "cell_type": "code",
   "execution_count": 19,
   "id": "4c4e3883",
   "metadata": {},
   "outputs": [
    {
     "data": {
      "application/vnd.jupyter.widget-view+json": {
       "model_id": "341ee5fb493843ca8bdc89044ad523cf",
       "version_major": 2,
       "version_minor": 0
      },
      "text/plain": [
       "VBox()"
      ]
     },
     "metadata": {},
     "output_type": "display_data"
    },
    {
     "data": {
      "application/vnd.jupyter.widget-view+json": {
       "model_id": "",
       "version_major": 2,
       "version_minor": 0
      },
      "text/plain": [
       "FloatProgress(value=0.0, bar_style='info', description='Progress:', layout=Layout(height='25px', width='50%'),…"
      ]
     },
     "metadata": {},
     "output_type": "display_data"
    },
    {
     "name": "stdout",
     "output_type": "stream",
     "text": [
      "+------------------+-----+--------------------+------------+-----+\n",
      "|        avg(stars)|stars|                name|        city|state|\n",
      "+------------------+-----+--------------------+------------+-----+\n",
      "|               5.0|  5.0|    CheraBella Salon|     Peabody|   MA|\n",
      "|             3.875|  4.0|Mezcal Cantina & ...|    Columbus|   OH|\n",
      "|3.8666666666666667|  4.0|    Red Table Coffee|      Austin|   TX|\n",
      "|               5.0|  5.0|          WonderWell|      Austin|   TX|\n",
      "|             3.375|  3.5|         Avalon Oaks|  Wilmington|   MA|\n",
      "|               1.8|  2.0|Allstate Insuranc...|      Austin|   TX|\n",
      "|               4.2|  4.0|Divine Frozen Yogurt|Happy Valley|   OR|\n",
      "|2.5454545454545454|  2.5|Glendale Square M...|     Everett|   MA|\n",
      "| 3.774193548387097|  4.0| ONE Boulder Fitness|     Boulder|   CO|\n",
      "|               5.0|  5.0|    Mel's Frame Shop|    Portland|   OR|\n",
      "+------------------+-----+--------------------+------------+-----+\n",
      "only showing top 10 rows"
     ]
    }
   ],
   "source": [
    "review_and_business = review_and_business.select('avg(stars)','stars','name','city','state')\n",
    "review_and_business.show(10)\n"
   ]
  },
  {
   "cell_type": "markdown",
   "id": "5bb427f4",
   "metadata": {},
   "source": [
    "And finally, graph it!"
   ]
  },
  {
   "cell_type": "code",
   "execution_count": 20,
   "id": "18c471f4",
   "metadata": {},
   "outputs": [
    {
     "data": {
      "application/vnd.jupyter.widget-view+json": {
       "model_id": "8e1a7bcd50064a28b00c01f6648137ac",
       "version_major": 2,
       "version_minor": 0
      },
      "text/plain": [
       "VBox()"
      ]
     },
     "metadata": {},
     "output_type": "display_data"
    },
    {
     "data": {
      "application/vnd.jupyter.widget-view+json": {
       "model_id": "",
       "version_major": 2,
       "version_minor": 0
      },
      "text/plain": [
       "FloatProgress(value=0.0, bar_style='info', description='Progress:', layout=Layout(height='25px', width='50%'),…"
      ]
     },
     "metadata": {},
     "output_type": "display_data"
    },
    {
     "name": "stdout",
     "output_type": "stream",
     "text": [
      "        avg(stars)  stars      Skew\n",
      "0         3.000000    3.0  0.000000\n",
      "1         4.538462    4.5  0.008547\n",
      "2         4.200000    4.0  0.050000\n",
      "3         3.800000    4.0 -0.050000\n",
      "4         3.606061    3.5  0.030303\n",
      "...            ...    ...       ...\n",
      "160580    4.400000    4.5 -0.022222\n",
      "160581    3.755102    3.5  0.072886\n",
      "160582    4.800000    5.0 -0.040000\n",
      "160583    3.782609    4.0 -0.054348\n",
      "160584    2.692308    3.0 -0.102564\n",
      "\n",
      "[160585 rows x 3 columns]"
     ]
    }
   ],
   "source": [
    "row = review_and_business.select('avg(stars)','stars').toPandas()\n",
    "\n",
    "row['Skew'] = (row['avg(stars)'] - row['stars']) / row['stars']\n",
    "row"
   ]
  },
  {
   "cell_type": "code",
   "execution_count": 21,
   "id": "e64376bf",
   "metadata": {},
   "outputs": [
    {
     "data": {
      "application/vnd.jupyter.widget-view+json": {
       "model_id": "c5f1128895384252946f95e7afdf1517",
       "version_major": 2,
       "version_minor": 0
      },
      "text/plain": [
       "VBox()"
      ]
     },
     "metadata": {},
     "output_type": "display_data"
    },
    {
     "data": {
      "application/vnd.jupyter.widget-view+json": {
       "model_id": "",
       "version_major": 2,
       "version_minor": 0
      },
      "text/plain": [
       "FloatProgress(value=0.0, bar_style='info', description='Progress:', layout=Layout(height='25px', width='50%'),…"
      ]
     },
     "metadata": {},
     "output_type": "display_data"
    },
    {
     "data": {
      "image/png": "[encoded data removed]",
      "text/plain": [
       "<IPython.core.display.Image object>"
      ]
     },
     "metadata": {},
     "output_type": "display_data"
    }
   ],
   "source": [
    "plt.figure(figsize=(15,10))\n",
    "sns.distplot(row['Skew'], kde=True)\n",
    "plt.title('Skewed Distribution of Reviews', size = 20)\n",
    "plt.axis((-0.5,0.9,0,15))\n",
    "\n",
    "%matplot plt"
   ]
  },
  {
   "cell_type": "markdown",
   "id": "c378d4b9",
   "metadata": {},
   "source": [
    "So, do Yelp (written) Reviews skew negative? Does this analysis actually prove anything? \n",
    "\n",
    "### Expound on implications / interpretations of this graph\n",
    "\n",
    "The graph above doesn't clearly show if the skewness is positive or negative. To better interpetrate the skewness of the graph, I'll use the alternative Pearson Mode Skewness. The formula is:\n",
    "\n",
    "Skew = 3 * (Mean - Median) / Standard Deviation"
   ]
  },
  {
   "cell_type": "code",
   "execution_count": 22,
   "id": "14e6a620",
   "metadata": {},
   "outputs": [
    {
     "data": {
      "application/vnd.jupyter.widget-view+json": {
       "model_id": "02c622fd270443f99a66def2371d434b",
       "version_major": 2,
       "version_minor": 0
      },
      "text/plain": [
       "VBox()"
      ]
     },
     "metadata": {},
     "output_type": "display_data"
    },
    {
     "data": {
      "application/vnd.jupyter.widget-view+json": {
       "model_id": "",
       "version_major": 2,
       "version_minor": 0
      },
      "text/plain": [
       "FloatProgress(value=0.0, bar_style='info', description='Progress:', layout=Layout(height='25px', width='50%'),…"
      ]
     },
     "metadata": {},
     "output_type": "display_data"
    },
    {
     "name": "stdout",
     "output_type": "stream",
     "text": [
      "Mean: 0.00114\n",
      "Median : 0.0\n",
      "Std : 0.05142\n",
      "Skewness : 0.06676"
     ]
    }
   ],
   "source": [
    "mean = row['Skew'].mean()\n",
    "median = row['Skew'].median()\n",
    "std_deviation = row['Skew'].std()\n",
    "skewness = (3*(mean-median)/ std_deviation)\n",
    "\n",
    "print(f'Mean: {mean.round(5)}')\n",
    "print(f'Median : {median.round(5)}')\n",
    "print(f'Std : {std_deviation.round(5)}')\n",
    "print(f'Skewness : {skewness.round(5)}')"
   ]
  },
  {
   "cell_type": "markdown",
   "id": "4fd8dc31",
   "metadata": {},
   "source": [
    "The skewness is 0.06676, which is less than 0. As a result, it implies that the skewness is positive, showing that users who wrote reviews were overall slightly more satistied than its peers. "
   ]
  },
  {
   "cell_type": "markdown",
   "id": "353dad4a",
   "metadata": {},
   "source": [
    "\n",
    "\n",
    "# Part IV: Should the Elite be Trusted?\n"
   ]
  },
  {
   "cell_type": "markdown",
   "id": "02b29d42",
   "metadata": {},
   "source": [
    "## Loading User Data"
   ]
  },
  {
   "cell_type": "code",
   "execution_count": 23,
   "id": "b5e18127",
   "metadata": {},
   "outputs": [
    {
     "data": {
      "application/vnd.jupyter.widget-view+json": {
       "model_id": "deb04b3489b3477391c71cd9d840587e",
       "version_major": 2,
       "version_minor": 0
      },
      "text/plain": [
       "VBox()"
      ]
     },
     "metadata": {},
     "output_type": "display_data"
    },
    {
     "data": {
      "application/vnd.jupyter.widget-view+json": {
       "model_id": "",
       "version_major": 2,
       "version_minor": 0
      },
      "text/plain": [
       "FloatProgress(value=0.0, bar_style='info', description='Progress:', layout=Layout(height='25px', width='50%'),…"
      ]
     },
     "metadata": {},
     "output_type": "display_data"
    }
   ],
   "source": [
    "user_df = spark.read.json('s3://sta9760s2021-daniel-spark-datasets/yelp_academic_dataset_user.json')"
   ]
  },
  {
   "cell_type": "markdown",
   "id": "f6a4f800",
   "metadata": {},
   "source": [
    "## Overview Of Data"
   ]
  },
  {
   "cell_type": "code",
   "execution_count": 24,
   "id": "8dca7d2d",
   "metadata": {},
   "outputs": [
    {
     "data": {
      "application/vnd.jupyter.widget-view+json": {
       "model_id": "e7bd490a13a4441c9cf7318a32121843",
       "version_major": 2,
       "version_minor": 0
      },
      "text/plain": [
       "VBox()"
      ]
     },
     "metadata": {},
     "output_type": "display_data"
    },
    {
     "data": {
      "application/vnd.jupyter.widget-view+json": {
       "model_id": "",
       "version_major": 2,
       "version_minor": 0
      },
      "text/plain": [
       "FloatProgress(value=0.0, bar_style='info', description='Progress:', layout=Layout(height='25px', width='50%'),…"
      ]
     },
     "metadata": {},
     "output_type": "display_data"
    },
    {
     "name": "stdout",
     "output_type": "stream",
     "text": [
      "Total Columns: 22\n",
      "Total Rows: 2,189,457\n",
      "root\n",
      " |-- average_stars: double (nullable = true)\n",
      " |-- compliment_cool: long (nullable = true)\n",
      " |-- compliment_cute: long (nullable = true)\n",
      " |-- compliment_funny: long (nullable = true)\n",
      " |-- compliment_hot: long (nullable = true)\n",
      " |-- compliment_list: long (nullable = true)\n",
      " |-- compliment_more: long (nullable = true)\n",
      " |-- compliment_note: long (nullable = true)\n",
      " |-- compliment_photos: long (nullable = true)\n",
      " |-- compliment_plain: long (nullable = true)\n",
      " |-- compliment_profile: long (nullable = true)\n",
      " |-- compliment_writer: long (nullable = true)\n",
      " |-- cool: long (nullable = true)\n",
      " |-- elite: string (nullable = true)\n",
      " |-- fans: long (nullable = true)\n",
      " |-- friends: string (nullable = true)\n",
      " |-- funny: long (nullable = true)\n",
      " |-- name: string (nullable = true)\n",
      " |-- review_count: long (nullable = true)\n",
      " |-- useful: long (nullable = true)\n",
      " |-- user_id: string (nullable = true)\n",
      " |-- yelping_since: string (nullable = true)"
     ]
    }
   ],
   "source": [
    "# Total columns and rows\n",
    "print(f'Total Columns: {len(user_df.dtypes)}')\n",
    "print(f'Total Rows: {user_df.count():,}')\n",
    "\n",
    "user_df.printSchema()"
   ]
  },
  {
   "cell_type": "markdown",
   "id": "12657665",
   "metadata": {},
   "source": [
    "## Checking Important Columns"
   ]
  },
  {
   "cell_type": "code",
   "execution_count": 25,
   "id": "79ae85fb",
   "metadata": {},
   "outputs": [
    {
     "data": {
      "application/vnd.jupyter.widget-view+json": {
       "model_id": "12ef0cdfe18648bba80e5d21e2768491",
       "version_major": 2,
       "version_minor": 0
      },
      "text/plain": [
       "VBox()"
      ]
     },
     "metadata": {},
     "output_type": "display_data"
    },
    {
     "data": {
      "application/vnd.jupyter.widget-view+json": {
       "model_id": "",
       "version_major": 2,
       "version_minor": 0
      },
      "text/plain": [
       "FloatProgress(value=0.0, bar_style='info', description='Progress:', layout=Layout(height='25px', width='50%'),…"
      ]
     },
     "metadata": {},
     "output_type": "display_data"
    },
    {
     "name": "stdout",
     "output_type": "stream",
     "text": [
      "+--------------------+--------------------+------------+-------------+\n",
      "|             user_id|               elite|review_count|average_stars|\n",
      "+--------------------+--------------------+------------+-------------+\n",
      "|q_QQ5kBBwlCcbL1s4...|2006,2007,2008,20...|        1220|         3.85|\n",
      "|dIIKEfOgo0KqUfGQv...|2007,2008,2009,20...|        2136|         4.09|\n",
      "|D6ErcUnFALnCQN4b1...|           2010,2011|         119|         3.76|\n",
      "|JnPIjvC0cmooNDfsa...|2009,2010,2011,20...|         987|         3.77|\n",
      "|37Hc8hr3cw0iHLoPz...|      2009,2010,2011|         495|         3.72|\n",
      "|n-QwITZYrXlKQRiV3...|2010,2011,2012,20...|         229|         3.59|\n",
      "|eCJoZqpV1fDKJGAsX...|                    |          51|         3.86|\n",
      "|cojecOwQJpsYDxnjt...|           2010,2011|          51|         3.79|\n",
      "|1jXmzuIFKxTnEnR0p...|2010,2011,2012,20...|         299|         3.43|\n",
      "|-8QoOIfvwwxJ4sY20...|2012,2013,2014,20...|         288|         3.88|\n",
      "|EtofuImujQBSo02xa...|           2009,2010|          44|         3.83|\n",
      "|cxS6dbjyPgPS1S890...|                    |          65|         4.18|\n",
      "|MUzkXfPS9JaMgJ907...|2010,2012,2013,20...|         750|         4.16|\n",
      "|tjwblGkWN9m0vsGay...|2010,2011,2012,20...|         632|         3.66|\n",
      "|m-zIVssiXN4bnDFqM...|                    |           2|          4.5|\n",
      "|fxqvyXlml4400Bgls...|2011,2012,2013,20...|         363|         3.65|\n",
      "|9edAbpniyhHFdpAvk...| 2007,2008,2009,2010|         356|         3.73|\n",
      "|wURnB9fRNGAli13yB...| 2009,2010,2011,2012|          77|         3.75|\n",
      "|l4P65LXNBnJqI7oTX...|2008,2009,2010,20...|         202|         3.93|\n",
      "|9RIXlhUb_xEVuc_o0...|                    |          53|         3.57|\n",
      "+--------------------+--------------------+------------+-------------+\n",
      "only showing top 20 rows"
     ]
    }
   ],
   "source": [
    "user_df.select('user_id','elite','review_count','average_stars').show(20)"
   ]
  },
  {
   "cell_type": "code",
   "execution_count": 26,
   "id": "7198c6df",
   "metadata": {},
   "outputs": [
    {
     "data": {
      "application/vnd.jupyter.widget-view+json": {
       "model_id": "c9d1810ece274b99839542df1c895ba8",
       "version_major": 2,
       "version_minor": 0
      },
      "text/plain": [
       "VBox()"
      ]
     },
     "metadata": {},
     "output_type": "display_data"
    },
    {
     "data": {
      "application/vnd.jupyter.widget-view+json": {
       "model_id": "",
       "version_major": 2,
       "version_minor": 0
      },
      "text/plain": [
       "FloatProgress(value=0.0, bar_style='info', description='Progress:', layout=Layout(height='25px', width='50%'),…"
      ]
     },
     "metadata": {},
     "output_type": "display_data"
    }
   ],
   "source": [
    "#Only keeping elite users\n",
    "\n",
    "elite_only = user_df.filter(user_df['elite'] != '').select('user_id','elite','review_count','average_stars')\n",
    "\n",
    "#Selecting important columns from review dataframe\n",
    "\n",
    "review_df2 = review_df.select('business_id','stars','user_id')"
   ]
  },
  {
   "cell_type": "code",
   "execution_count": 27,
   "id": "22f9ae50",
   "metadata": {},
   "outputs": [
    {
     "data": {
      "application/vnd.jupyter.widget-view+json": {
       "model_id": "d295e47ac91d431b8d503280fd9e6836",
       "version_major": 2,
       "version_minor": 0
      },
      "text/plain": [
       "VBox()"
      ]
     },
     "metadata": {},
     "output_type": "display_data"
    },
    {
     "data": {
      "application/vnd.jupyter.widget-view+json": {
       "model_id": "",
       "version_major": 2,
       "version_minor": 0
      },
      "text/plain": [
       "FloatProgress(value=0.0, bar_style='info', description='Progress:', layout=Layout(height='25px', width='50%'),…"
      ]
     },
     "metadata": {},
     "output_type": "display_data"
    },
    {
     "name": "stdout",
     "output_type": "stream",
     "text": [
      "+--------------------+--------------------+------------+-------------+--------------------+-----+\n",
      "|             user_id|               elite|review_count|average_stars|         business_id|stars|\n",
      "+--------------------+--------------------+------------+-------------+--------------------+-----+\n",
      "|0JQYSCWOQWKqK7KMj...| 2015,2016,2017,2018|         232|         3.83|eCLuYcTuQpDPFOezh...|  4.0|\n",
      "|l91pXxTZGS5CNWjNB...|2012,2013,2014,20...|         424|         3.53|RP_U_TyolABy3eYuR...|  3.0|\n",
      "|WAyYDJKFMzlTTnKxq...|2011,2012,2013,20...|         236|         3.65|_6TF9YiOiYSToPBRz...|  5.0|\n",
      "|g34Qcj06LmCDhKzks...|2017,2018,2019,20,20|         289|         3.99|bxy3khT-2R66tcdKj...|  4.0|\n",
      "|_UMIAnpnXWAqXS4y6...|2015,2016,2017,20...|         195|         4.37|A0F6H8OO3qYAvI2L3...|  4.0|\n",
      "|b9sznODmw0OL-nD5v...|           2015,2016|          90|         3.63|bPmWDBkjBhV11Yk4B...|  4.0|\n",
      "|i3Edg1pY9ezhFGlSY...|          2019,20,20|         138|         4.01|b4PgITSqSWoPhyJ-M...|  5.0|\n",
      "|0qQXako5doigx3X7J...|2008,2009,2010,20...|         237|         3.85|VGxHDM-0Ic6E5CrXl...|  3.0|\n",
      "|b9sznODmw0OL-nD5v...|           2015,2016|          90|         3.63|ZRXkJWgGP54MRpbUZ...|  4.0|\n",
      "|Qwc59G4wyGx7SvWsY...|           2011,2012|         137|         3.82|_hEJ5FtcfEm5lQYXY...|  2.0|\n",
      "+--------------------+--------------------+------------+-------------+--------------------+-----+\n",
      "only showing top 10 rows"
     ]
    }
   ],
   "source": [
    "#Joining users and review dataframes\n",
    "review_elite = elite_only.join(review_df2, elite_only.user_id == review_df2.user_id).drop(review_df['user_id'])\n",
    "review_elite.show(10)"
   ]
  },
  {
   "cell_type": "code",
   "execution_count": 28,
   "id": "aa660308",
   "metadata": {},
   "outputs": [
    {
     "data": {
      "application/vnd.jupyter.widget-view+json": {
       "model_id": "9c0d3c66ae53442db94cbe9381e4665e",
       "version_major": 2,
       "version_minor": 0
      },
      "text/plain": [
       "VBox()"
      ]
     },
     "metadata": {},
     "output_type": "display_data"
    },
    {
     "data": {
      "application/vnd.jupyter.widget-view+json": {
       "model_id": "",
       "version_major": 2,
       "version_minor": 0
      },
      "text/plain": [
       "FloatProgress(value=0.0, bar_style='info', description='Progress:', layout=Layout(height='25px', width='50%'),…"
      ]
     },
     "metadata": {},
     "output_type": "display_data"
    },
    {
     "name": "stdout",
     "output_type": "stream",
     "text": [
      "+--------------------+--------------------+------------+-------------+--------------------+-----+--------------------+------------------+\n",
      "|             user_id|               elite|review_count|average_stars|         business_id|stars|         business_id|        avg(stars)|\n",
      "+--------------------+--------------------+------------+-------------+--------------------+-----+--------------------+------------------+\n",
      "|olrx_XfiOSiALGqmB...|      2016,2017,2018|         179|          3.9|--JuLhLvq3gyjNnXT...|  5.0|--JuLhLvq3gyjNnXT...|               5.0|\n",
      "|jWi0LzO0jRpr6TMwo...|2016,2017,2018,20...|         298|         4.14|--JuLhLvq3gyjNnXT...|  5.0|--JuLhLvq3gyjNnXT...|               5.0|\n",
      "|wEp-ZgJ6XpETVo1rs...|     2018,2019,20,20|          84|         4.34|--_nBudPOb1lNRgKf...|  5.0|--_nBudPOb1lNRgKf...|             3.875|\n",
      "|VatcQtdb5tlz4D-N6...|2014,2015,2016,20...|         556|         4.11|--_nBudPOb1lNRgKf...|  4.0|--_nBudPOb1lNRgKf...|             3.875|\n",
      "|8XlB-J73QOFV91Y0e...|2009,2010,2011,20...|         712|         4.48|--kyOk0waSrCDlbSv...|  4.0|--kyOk0waSrCDlbSv...|3.8666666666666667|\n",
      "|VVBzicjxYIhE2RR3n...| 2010,2011,2012,2013|         199|         3.94|--kyOk0waSrCDlbSv...|  5.0|--kyOk0waSrCDlbSv...|3.8666666666666667|\n",
      "|RqOHkhgZPjXQmeEL8...| 2015,2016,2018,2019|          93|         4.19|--kyOk0waSrCDlbSv...|  5.0|--kyOk0waSrCDlbSv...|3.8666666666666667|\n",
      "|_WiJj1jqPbIUzh_Zo...|                2011|          87|         3.45|--kyOk0waSrCDlbSv...|  3.0|--kyOk0waSrCDlbSv...|3.8666666666666667|\n",
      "|g3-4LSFaRu_mDMFg6...|                2012|         138|         4.17|--kyOk0waSrCDlbSv...|  4.0|--kyOk0waSrCDlbSv...|3.8666666666666667|\n",
      "|Wp1d0lLdpTLIGbv-L...|           2015,2016|          67|         3.08|--kyOk0waSrCDlbSv...|  3.0|--kyOk0waSrCDlbSv...|3.8666666666666667|\n",
      "+--------------------+--------------------+------------+-------------+--------------------+-----+--------------------+------------------+\n",
      "only showing top 10 rows"
     ]
    }
   ],
   "source": [
    "#Joining Review Elite and Business Avg stars\n",
    "\n",
    "skew2 = review_elite.join(business_avg_stars, business_avg_stars.business_id == review_elite.business_id)\n",
    "skew2.show(10)"
   ]
  },
  {
   "cell_type": "code",
   "execution_count": 29,
   "id": "8311679a",
   "metadata": {},
   "outputs": [
    {
     "data": {
      "application/vnd.jupyter.widget-view+json": {
       "model_id": "3530a78634e14ece9a8e91a2f807b47a",
       "version_major": 2,
       "version_minor": 0
      },
      "text/plain": [
       "VBox()"
      ]
     },
     "metadata": {},
     "output_type": "display_data"
    },
    {
     "data": {
      "application/vnd.jupyter.widget-view+json": {
       "model_id": "",
       "version_major": 2,
       "version_minor": 0
      },
      "text/plain": [
       "FloatProgress(value=0.0, bar_style='info', description='Progress:', layout=Layout(height='25px', width='50%'),…"
      ]
     },
     "metadata": {},
     "output_type": "display_data"
    },
    {
     "name": "stdout",
     "output_type": "stream",
     "text": [
      "                        user_id  ...      Skew\n",
      "0        olrx_XfiOSiALGqmB_PfSg  ...  0.000000\n",
      "1        jWi0LzO0jRpr6TMwo9anwQ  ...  0.000000\n",
      "2        wEp-ZgJ6XpETVo1rsYsuvA  ... -0.225000\n",
      "3        VatcQtdb5tlz4D-N6y8e7A  ... -0.031250\n",
      "4        Wp1d0lLdpTLIGbv-LzuwjA  ...  0.288889\n",
      "...                         ...  ...       ...\n",
      "2169083  OdiOfb-5KQz6z54IQ8T5RA  ... -0.381579\n",
      "2169084  2gas35gMf50hdkVeUxYQQg  ...  3.215909\n",
      "2169085  f3xJJpUIFWmdZhhc912Leg  ...  0.053977\n",
      "2169086  wX_Fgi0SkooBTnq-kGAD2Q  ... -0.156818\n",
      "2169087  3XOTxkcpqttnxt52HcIN3Q  ... -0.042105\n",
      "\n",
      "[2169088 rows x 9 columns]"
     ]
    }
   ],
   "source": [
    "#Checking skewness\n",
    "row2 = skew2.toPandas()\n",
    "row2['Skew'] = (row2['avg(stars)'] - row2['stars']) / row2['stars']\n",
    "row2"
   ]
  },
  {
   "cell_type": "markdown",
   "id": "5d1b0c4c",
   "metadata": {},
   "source": [
    "And finally, graph it!"
   ]
  },
  {
   "cell_type": "code",
   "execution_count": 30,
   "id": "78b90d0c",
   "metadata": {},
   "outputs": [
    {
     "data": {
      "application/vnd.jupyter.widget-view+json": {
       "model_id": "a8622828065a47e2b34d4babebc47c0c",
       "version_major": 2,
       "version_minor": 0
      },
      "text/plain": [
       "VBox()"
      ]
     },
     "metadata": {},
     "output_type": "display_data"
    },
    {
     "data": {
      "application/vnd.jupyter.widget-view+json": {
       "model_id": "",
       "version_major": 2,
       "version_minor": 0
      },
      "text/plain": [
       "FloatProgress(value=0.0, bar_style='info', description='Progress:', layout=Layout(height='25px', width='50%'),…"
      ]
     },
     "metadata": {},
     "output_type": "display_data"
    },
    {
     "data": {
      "image/png": "[encoded data removed]",
      "text/plain": [
       "<IPython.core.display.Image object>"
      ]
     },
     "metadata": {},
     "output_type": "display_data"
    }
   ],
   "source": [
    "plt.figure(figsize=(10,5))\n",
    "sns.distplot(row2['Skew'], kde=True)\n",
    "plt.title('Skewed Distribution of Elite Reviews', size = 20)\n",
    "plt.axis((-0.5,0.6,0,3))\n",
    "\n",
    "%matplot plt"
   ]
  },
  {
   "cell_type": "code",
   "execution_count": 31,
   "id": "7fa9d9b4",
   "metadata": {},
   "outputs": [
    {
     "data": {
      "application/vnd.jupyter.widget-view+json": {
       "model_id": "fecf2376ed5f4083a5e2d97507fe403a",
       "version_major": 2,
       "version_minor": 0
      },
      "text/plain": [
       "VBox()"
      ]
     },
     "metadata": {},
     "output_type": "display_data"
    },
    {
     "data": {
      "application/vnd.jupyter.widget-view+json": {
       "model_id": "",
       "version_major": 2,
       "version_minor": 0
      },
      "text/plain": [
       "FloatProgress(value=0.0, bar_style='info', description='Progress:', layout=Layout(height='25px', width='50%'),…"
      ]
     },
     "metadata": {},
     "output_type": "display_data"
    },
    {
     "name": "stdout",
     "output_type": "stream",
     "text": [
      "Mean: 0.08266\n",
      "Median : -0.05761\n",
      "Std : 0.5221\n",
      "Skewness : 0.80599"
     ]
    }
   ],
   "source": [
    "#Similar to Part III - Using the alternative Pearson Mode Skewness formula to make sure2.\n",
    "\n",
    "mean = row2['Skew'].mean()\n",
    "median = row2['Skew'].median()\n",
    "std_deviation = row2['Skew'].std()\n",
    "skewness = (3*(mean-median)/ std_deviation)\n",
    "\n",
    "print(f'Mean: {mean.round(5)}')\n",
    "print(f'Median : {median.round(5)}')\n",
    "print(f'Std : {std_deviation.round(5)}')\n",
    "print(f'Skewness : {skewness.round(5)}')"
   ]
  },
  {
   "cell_type": "markdown",
   "id": "7adf0fff",
   "metadata": {},
   "source": [
    "How accurate or close are the ratings of an \"elite\" user (check Users table schema) vs the actual business rating.\n",
    "\n",
    "### Expound on implications / interpretations of this graph\n",
    "\n",
    "With a skewness of 0.80599, we can say that it is positive, since it is more than 0. It shows tha elite users were more satisfied than their non-elite peers. Perhaps writing a positive reviews is something that they associate with their elite title. It seems as elite users should be trusted. Although both elite and non-elite reviews should be considered trustworthy. "
   ]
  }
 ],
 "metadata": {
  "kernelspec": {
   "display_name": "PySpark",
   "language": "",
   "name": "pysparkkernel"
  },
  "language_info": {
   "codemirror_mode": {
    "name": "python",
    "version": 2
   },
   "mimetype": "text/x-python",
   "name": "pyspark",
   "pygments_lexer": "python2"
  }
 },
 "nbformat": 4,
 "nbformat_minor": 5
}
